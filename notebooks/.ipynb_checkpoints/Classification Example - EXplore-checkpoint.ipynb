{
 "cells": [
  {
   "cell_type": "code",
   "execution_count": 1,
   "metadata": {},
   "outputs": [],
   "source": [
    "import os\n",
    "os.chdir(\"../\")"
   ]
  },
  {
   "cell_type": "code",
   "execution_count": 2,
   "metadata": {},
   "outputs": [],
   "source": [
    "import os\n",
    "import tensorflow as tf\n",
    "from tensorflow.python import keras\n",
    "from bert import BertModelLayer\n",
    "from bert.loader import StockBertConfig, load_stock_weights"
   ]
  },
  {
   "cell_type": "code",
   "execution_count": 3,
   "metadata": {},
   "outputs": [
    {
     "name": "stdout",
     "output_type": "stream",
     "text": [
      " \u001b[0m\u001b[01;34mbert-2.0\u001b[0m/                      \u001b[01;34m'MicroSoft AI'\u001b[0m/\r\n",
      " \u001b[01;34mbert-for-tf2\u001b[0m/                   \u001b[01;34mMobileFaceNet_TF\u001b[0m/\r\n",
      " \u001b[01;34mdeep-learning\u001b[0m/                  \u001b[01;34mNER\u001b[0m/\r\n",
      " \u001b[01;34mfacenet_home_surveillance\u001b[0m/      \u001b[01;34mpng\u001b[0m/\r\n",
      " \u001b[01;31mfacenet_home_surveillance.zip\u001b[0m   \u001b[01;34mpunchin_video_analysis\u001b[0m/\r\n",
      " \u001b[01;34mfacenet-tensorrt\u001b[0m/               \u001b[01;34mpunchin_video_analysis_archive_052019\u001b[0m/\r\n",
      " \u001b[01;34mfacenet-tensort-service\u001b[0m/        \u001b[01;34mscoket-streamer\u001b[0m/\r\n",
      " \u001b[01;34mfacenet-web-service\u001b[0m/           \u001b[01;34m'siddsoft projects'\u001b[0m/\r\n",
      " \u001b[01;34mhome_surveillance\u001b[0m/              \u001b[01;34mText-Generation\u001b[0m/\r\n",
      " \u001b[01;34mJetson\u001b[0m/                         \u001b[34;42mvideo_analysis_service\u001b[0m/\r\n",
      " \u001b[01;34mknown-faces\u001b[0m/                    \u001b[01;34mxlnet\u001b[0m/\r\n",
      " \u001b[01;34mkoinex\u001b[0m/                         \u001b[01;34mxlnet-2.0\u001b[0m/\r\n"
     ]
    }
   ],
   "source": [
    "ls /home/naval/Desktop/Naval\\ Projects/"
   ]
  },
  {
   "cell_type": "code",
   "execution_count": 4,
   "metadata": {},
   "outputs": [],
   "source": [
    "model_dir = \"/home/naval/Desktop/Naval Projects/MicroSoft AI/bert/multi_cased_L-12_H-768_A-12\"\n",
    "\n",
    "bert_config_file = os.path.join(model_dir, \"bert_config.json\")\n",
    "bert_ckpt_file   = os.path.join(model_dir, \"bert_model.ckpt\")\n",
    "\n",
    "with tf.io.gfile.GFile(bert_config_file, \"r\") as reader:\n",
    "  stock_params = StockBertConfig.from_json_string(reader.read())\n",
    "  bert_params  = stock_params.to_bert_model_layer_params()\n",
    "\n",
    "l_bert = BertModelLayer.from_params(bert_params, name=\"bert\")"
   ]
  },
  {
   "cell_type": "code",
   "execution_count": 6,
   "metadata": {},
   "outputs": [
    {
     "name": "stderr",
     "output_type": "stream",
     "text": [
      "W0717 18:06:11.534792 140367756896064 deprecation.py:506] From /home/naval/anaconda2/envs/tensorflow-2.0/lib/python3.5/site-packages/tensorflow/python/keras/initializers.py:119: calling RandomUniform.__init__ (from tensorflow.python.ops.init_ops) with dtype is deprecated and will be removed in a future version.\n",
      "Instructions for updating:\n",
      "Call initializer instance with the dtype argument instead of passing it to the constructor\n"
     ]
    }
   ],
   "source": [
    "from tensorflow.python import keras\n",
    "\n",
    "max_seq_len = 128\n",
    "l_input_ids      = keras.layers.Input(shape=(max_seq_len,), dtype='int32')\n",
    "l_token_type_ids = keras.layers.Input(shape=(max_seq_len,), dtype='int32')\n",
    "\n",
    "output = l_bert([l_input_ids, l_token_type_ids])  # [batch_size, max_seq_len, hidden_size]"
   ]
  },
  {
   "cell_type": "code",
   "execution_count": 7,
   "metadata": {},
   "outputs": [],
   "source": [
    "model = keras.Model(inputs=[l_input_ids, l_token_type_ids], outputs=output)\n",
    "model.build(input_shape=[(None, max_seq_len), (None, max_seq_len)])"
   ]
  },
  {
   "cell_type": "code",
   "execution_count": 9,
   "metadata": {},
   "outputs": [
    {
     "name": "stdout",
     "output_type": "stream",
     "text": [
      "Model: \"model\"\n",
      "__________________________________________________________________________________________________\n",
      "Layer (type)                    Output Shape         Param #     Connected to                     \n",
      "==================================================================================================\n",
      "input_1 (InputLayer)            [(None, 128)]        0                                            \n",
      "__________________________________________________________________________________________________\n",
      "input_2 (InputLayer)            [(None, 128)]        0                                            \n",
      "__________________________________________________________________________________________________\n",
      "bert (BertModelLayer)           (None, 128, 768)     177262848   input_1[0][0]                    \n",
      "                                                                 input_2[0][0]                    \n",
      "==================================================================================================\n",
      "Total params: 177,262,848\n",
      "Trainable params: 177,262,848\n",
      "Non-trainable params: 0\n",
      "__________________________________________________________________________________________________\n"
     ]
    }
   ],
   "source": [
    "model.summary()"
   ]
  },
  {
   "cell_type": "code",
   "execution_count": 10,
   "metadata": {},
   "outputs": [
    {
     "name": "stdout",
     "output_type": "stream",
     "text": [
      "Done loading 197 BERT weights from: /home/naval/Desktop/Naval Projects/MicroSoft AI/bert/multi_cased_L-12_H-768_A-12/bert_model.ckpt into <bert.model.BertModelLayer object at 0x7fa9c2dd3400> (prefix:bert)\n"
     ]
    }
   ],
   "source": [
    "from bert.loader import load_stock_weights\n",
    "\n",
    "load_stock_weights(l_bert, bert_ckpt_file)"
   ]
  },
  {
   "cell_type": "code",
   "execution_count": null,
   "metadata": {},
   "outputs": [],
   "source": [
    "bert_ckpt_file"
   ]
  },
  {
   "cell_type": "code",
   "execution_count": 6,
   "metadata": {},
   "outputs": [
    {
     "name": "stderr",
     "output_type": "stream",
     "text": [
      "WARNING: Logging before flag parsing goes to stderr.\n",
      "W0717 18:50:42.318617 140276448253760 deprecation.py:323] From /home/naval/Desktop/Naval Projects/bert-for-tf2/tests/ext/modeling.py:691: dense (from tensorflow.python.layers.core) is deprecated and will be removed in a future version.\n",
      "Instructions for updating:\n",
      "Use keras.layers.dense instead.\n"
     ]
    },
    {
     "ename": "NameError",
     "evalue": "name 'self' is not defined",
     "output_type": "error",
     "traceback": [
      "\u001b[0;31m---------------------------------------------------------------------------\u001b[0m",
      "\u001b[0;31mNameError\u001b[0m                                 Traceback (most recent call last)",
      "\u001b[0;32m<ipython-input-6-0221902cf26a>\u001b[0m in \u001b[0;36m<module>\u001b[0;34m()\u001b[0m\n\u001b[1;32m     30\u001b[0m \u001b[0;34m\u001b[0m\u001b[0m\n\u001b[1;32m     31\u001b[0m \u001b[0mtvars\u001b[0m \u001b[0;34m=\u001b[0m \u001b[0mtf\u001b[0m\u001b[0;34m.\u001b[0m\u001b[0mcompat\u001b[0m\u001b[0;34m.\u001b[0m\u001b[0mv1\u001b[0m\u001b[0;34m.\u001b[0m\u001b[0mtrainable_variables\u001b[0m\u001b[0;34m(\u001b[0m\u001b[0;34m)\u001b[0m\u001b[0;34m\u001b[0m\u001b[0m\n\u001b[0;32m---> 32\u001b[0;31m \u001b[0;34m(\u001b[0m\u001b[0massignment_map\u001b[0m\u001b[0;34m,\u001b[0m \u001b[0minitialized_var_names\u001b[0m\u001b[0;34m)\u001b[0m \u001b[0;34m=\u001b[0m \u001b[0mget_assignment_map_from_checkpoint\u001b[0m\u001b[0;34m(\u001b[0m\u001b[0mtvars\u001b[0m\u001b[0;34m,\u001b[0m \u001b[0mself\u001b[0m\u001b[0;34m.\u001b[0m\u001b[0mbert_ckpt_file\u001b[0m\u001b[0;34m)\u001b[0m\u001b[0;34m\u001b[0m\u001b[0m\n\u001b[0m\u001b[1;32m     33\u001b[0m \u001b[0mtf\u001b[0m\u001b[0;34m.\u001b[0m\u001b[0mcompat\u001b[0m\u001b[0;34m.\u001b[0m\u001b[0mv1\u001b[0m\u001b[0;34m.\u001b[0m\u001b[0mtrain\u001b[0m\u001b[0;34m.\u001b[0m\u001b[0minit_from_checkpoint\u001b[0m\u001b[0;34m(\u001b[0m\u001b[0mbert_ckpt_file\u001b[0m\u001b[0;34m,\u001b[0m \u001b[0massignment_map\u001b[0m\u001b[0;34m)\u001b[0m\u001b[0;34m\u001b[0m\u001b[0m\n",
      "\u001b[0;31mNameError\u001b[0m: name 'self' is not defined"
     ]
    }
   ],
   "source": [
    "from tests.ext.modeling import BertModel, BertConfig, get_assignment_map_from_checkpoint\n",
    "import tensorflow as tf\n",
    "from tensorflow.python import keras\n",
    "from tensorflow.python.keras import backend as K\n",
    "from bert.tokenization import FullTokenizer\n",
    "\n",
    "\n",
    "model_dir = \"/home/naval/Desktop/Naval Projects/MicroSoft AI/bert/multi_cased_L-12_H-768_A-12\"\n",
    "bert_config_file = os.path.join(model_dir, \"bert_config.json\")\n",
    "bert_ckpt_file   = os.path.join(model_dir, \"bert_model.ckpt\")\n",
    "\n",
    "tf.compat.v1.reset_default_graph()\n",
    "\n",
    "tf_placeholder = tf.compat.v1.placeholder\n",
    "\n",
    "max_seq_len       = 128\n",
    "pl_input_ids      = tf.compat.v1.placeholder(tf.int32, shape=(1, max_seq_len))\n",
    "pl_mask           = tf.compat.v1.placeholder(tf.int32, shape=(1, max_seq_len))\n",
    "pl_token_type_ids = tf.compat.v1.placeholder(tf.int32, shape=(1, max_seq_len))\n",
    "\n",
    "bert_config = BertConfig.from_json_file(bert_config_file)\n",
    "tokenizer = FullTokenizer(vocab_file=os.path.join(model_dir, \"vocab.txt\"))\n",
    "\n",
    "s_model = BertModel(config=bert_config,\n",
    "                       is_training=False,\n",
    "                       input_ids=pl_input_ids,\n",
    "                       input_mask=pl_mask,\n",
    "                       token_type_ids=pl_token_type_ids,\n",
    "                       use_one_hot_embeddings=False)\n",
    "\n",
    "tvars = tf.compat.v1.trainable_variables()\n",
    "(assignment_map, initialized_var_names) = get_assignment_map_from_checkpoint(tvars, bert_ckpt_file)\n",
    "tf.compat.v1.train.init_from_checkpoint(bert_ckpt_file, assignment_map)\n"
   ]
  },
  {
   "cell_type": "code",
   "execution_count": null,
   "metadata": {},
   "outputs": [],
   "source": []
  }
 ],
 "metadata": {
  "kernelspec": {
   "display_name": "Python [conda env:tensorflow-2.0]",
   "language": "python",
   "name": "conda-env-tensorflow-2.0-py"
  },
  "language_info": {
   "codemirror_mode": {
    "name": "ipython",
    "version": 3
   },
   "file_extension": ".py",
   "mimetype": "text/x-python",
   "name": "python",
   "nbconvert_exporter": "python",
   "pygments_lexer": "ipython3",
   "version": "3.5.6"
  }
 },
 "nbformat": 4,
 "nbformat_minor": 2
}
